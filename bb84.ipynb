{
 "cells": [
  {
   "cell_type": "code",
   "execution_count": 1,
   "metadata": {},
   "outputs": [],
   "source": [
    "import random\n",
    "from qiskit import QuantumCircuit, QuantumRegister, ClassicalRegister, IBMQ, execute\n",
    "\n",
    "NUMBER_OF_CIRCUITS = 100\n",
    "DOES_EVE_EXIST = False\n",
    "CHECK_MARK = u'\\u2713'"
   ]
  },
  {
   "cell_type": "code",
   "execution_count": 2,
   "metadata": {},
   "outputs": [],
   "source": [
    "def setup_alice(circ):\n",
    "    alice_q = circ.qubits[0]\n",
    "\n",
    "    if random.getrandbits(1):\n",
    "        circ.x(alice_q)\n",
    "    \n",
    "    if random.getrandbits(1):\n",
    "        circ.h(alice_q)\n",
    "    return circ\n",
    "def setup_bob(circ):\n",
    "    bob_q = circ.qubits[1]\n",
    "    bob_c = circ.clbits[0]\n",
    "\n",
    "    if random.getrandbits(1):\n",
    "        circ.h(bob_q)\n",
    "\n",
    "    circ.measure(bob_q, bob_c)\n",
    "    return circ\n",
    "def setup_eve(circ):\n",
    "    bob_q = circ.qubits[1]\n",
    "    eve_c = circ.clbits[1]\n",
    "\n",
    "    circ.barrier()\n",
    "    circ.measure(bob_q, eve_c)\n",
    "    circ.barrier()\n",
    "    return circ\n",
    "def create_registers(eve_exists):\n",
    "    alice_q = QuantumRegister(1, 'alice_q')\n",
    "    bob_q = QuantumRegister(1, 'bob_q')\n",
    "    bob_c  = ClassicalRegister(1, 'bob_c')\n",
    "\n",
    "    if eve_exists:\n",
    "        eve_c = ClassicalRegister(1, 'eve_c')\n",
    "        circ = QuantumCircuit(alice_q, bob_q, bob_c, eve_c)\n",
    "    else:\n",
    "        circ = QuantumCircuit(alice_q, bob_q, bob_c)\n",
    "    return circ\n",
    "def make_new_circuit(eve_exists):\n",
    "    circ = create_registers(eve_exists)\n",
    "    alice_q = circ.qubits[0]\n",
    "    bob_q = circ.qubits[1]\n",
    "    bob_c = circ.clbits[0]\n",
    "\n",
    "    circ = setup_alice(circ)\n",
    "\n",
    "    circ.swap(alice_q, bob_q)\n",
    "\n",
    "    if eve_exists:\n",
    "        circ = setup_eve(circ)\n",
    "\n",
    "    circ = setup_bob(circ)\n",
    "\n",
    "    return circ\n",
    "def create_circuits(how_many, does_eve_exist):\n",
    "    circuits = []\n",
    "    for i in range(how_many):\n",
    "        circuits.append(make_new_circuit(does_eve_exist))\n",
    "    return circuits\n",
    "def run_the_job(circuits):\n",
    "    provider = IBMQ.load_account()\n",
    "    device = provider.get_backend('ibm_kyoto')\n",
    "    job = execute(circuits, backend=device, shots=1, memory=True)\n",
    "    return job.result()\n",
    "    "
   ]
  },
  {
   "cell_type": "code",
   "execution_count": 3,
   "metadata": {},
   "outputs": [
    {
     "name": "stderr",
     "output_type": "stream",
     "text": [
      "c:\\Users\\param\\WorkSpace\\quantum-computing\\experimenting_qiskit\\env\\lib\\site-packages\\requests_ntlm\\requests_ntlm.py:5: CryptographyDeprecationWarning: Python 3.6 is no longer supported by the Python core team. Therefore, support for it is deprecated in cryptography. The next release of cryptography will remove support for Python 3.6.\n",
      "  from cryptography import x509\n"
     ]
    },
    {
     "name": "stdout",
     "output_type": "stream",
     "text": [
      "Result(backend_name='ibm_kyoto', backend_version='0.0.0', qobj_id='Unknown', job_id='Unknown', success=True, results=[ExperimentResult(shots=1, success=True, meas_level=2, data=ExperimentResultData(counts={'0x3': 1}, memory=['0x3']), header=QobjExperimentHeader(clbit_labels=[['bob_c', 0], ['eve_c', 0]], creg_sizes=[['bob_c', 1], ['eve_c', 1]], global_phase=2.356194490192345, memory_slots=2, metadata={}, n_qubits=127, name='circuit-0', qreg_sizes=[['q', 127]], qubit_labels=[['q', 0], ['q', 1], ['q', 2], ['q', 3], ['q', 4], ['q', 5], ['q', 6], ['q', 7], ['q', 8], ['q', 9], ['q', 10], ['q', 11], ['q', 12], ['q', 13], ['q', 14], ['q', 15], ['q', 16], ['q', 17], ['q', 18], ['q', 19], ['q', 20], ['q', 21], ['q', 22], ['q', 23], ['q', 24], ['q', 25], ['q', 26], ['q', 27], ['q', 28], ['q', 29], ['q', 30], ['q', 31], ['q', 32], ['q', 33], ['q', 34], ['q', 35], ['q', 36], ['q', 37], ['q', 38], ['q', 39], ['q', 40], ['q', 41], ['q', 42], ['q', 43], ['q', 44], ['q', 45], ['q', 46], ['q', 47], ['q', 48], ['q', 49], ['q', 50], ['q', 51], ['q', 52], ['q', 53], ['q', 54], ['q', 55], ['q', 56], ['q', 57], ['q', 58], ['q', 59], ['q', 60], ['q', 61], ['q', 62], ['q', 63], ['q', 64], ['q', 65], ['q', 66], ['q', 67], ['q', 68], ['q', 69], ['q', 70], ['q', 71], ['q', 72], ['q', 73], ['q', 74], ['q', 75], ['q', 76], ['q', 77], ['q', 78], ['q', 79], ['q', 80], ['q', 81], ['q', 82], ['q', 83], ['q', 84], ['q', 85], ['q', 86], ['q', 87], ['q', 88], ['q', 89], ['q', 90], ['q', 91], ['q', 92], ['q', 93], ['q', 94], ['q', 95], ['q', 96], ['q', 97], ['q', 98], ['q', 99], ['q', 100], ['q', 101], ['q', 102], ['q', 103], ['q', 104], ['q', 105], ['q', 106], ['q', 107], ['q', 108], ['q', 109], ['q', 110], ['q', 111], ['q', 112], ['q', 113], ['q', 114], ['q', 115], ['q', 116], ['q', 117], ['q', 118], ['q', 119], ['q', 120], ['q', 121], ['q', 122], ['q', 123], ['q', 124], ['q', 125], ['q', 126]]), status=done, meas_return=avg), ExperimentResult(shots=1, success=True, meas_level=2, data=ExperimentResultData(counts={'0x1': 1}, memory=['0x1']), header=QobjExperimentHeader(clbit_labels=[['bob_c', 0], ['eve_c', 0]], creg_sizes=[['bob_c', 1], ['eve_c', 1]], global_phase=4.712388980384691, memory_slots=2, metadata={}, n_qubits=127, name='circuit-1', qreg_sizes=[['q', 127]], qubit_labels=[['q', 0], ['q', 1], ['q', 2], ['q', 3], ['q', 4], ['q', 5], ['q', 6], ['q', 7], ['q', 8], ['q', 9], ['q', 10], ['q', 11], ['q', 12], ['q', 13], ['q', 14], ['q', 15], ['q', 16], ['q', 17], ['q', 18], ['q', 19], ['q', 20], ['q', 21], ['q', 22], ['q', 23], ['q', 24], ['q', 25], ['q', 26], ['q', 27], ['q', 28], ['q', 29], ['q', 30], ['q', 31], ['q', 32], ['q', 33], ['q', 34], ['q', 35], ['q', 36], ['q', 37], ['q', 38], ['q', 39], ['q', 40], ['q', 41], ['q', 42], ['q', 43], ['q', 44], ['q', 45], ['q', 46], ['q', 47], ['q', 48], ['q', 49], ['q', 50], ['q', 51], ['q', 52], ['q', 53], ['q', 54], ['q', 55], ['q', 56], ['q', 57], ['q', 58], ['q', 59], ['q', 60], ['q', 61], ['q', 62], ['q', 63], ['q', 64], ['q', 65], ['q', 66], ['q', 67], ['q', 68], ['q', 69], ['q', 70], ['q', 71], ['q', 72], ['q', 73], ['q', 74], ['q', 75], ['q', 76], ['q', 77], ['q', 78], ['q', 79], ['q', 80], ['q', 81], ['q', 82], ['q', 83], ['q', 84], ['q', 85], ['q', 86], ['q', 87], ['q', 88], ['q', 89], ['q', 90], ['q', 91], ['q', 92], ['q', 93], ['q', 94], ['q', 95], ['q', 96], ['q', 97], ['q', 98], ['q', 99], ['q', 100], ['q', 101], ['q', 102], ['q', 103], ['q', 104], ['q', 105], ['q', 106], ['q', 107], ['q', 108], ['q', 109], ['q', 110], ['q', 111], ['q', 112], ['q', 113], ['q', 114], ['q', 115], ['q', 116], ['q', 117], ['q', 118], ['q', 119], ['q', 120], ['q', 121], ['q', 122], ['q', 123], ['q', 124], ['q', 125], ['q', 126]]), status=done, meas_return=avg), ExperimentResult(shots=1, success=True, meas_level=2, data=ExperimentResultData(counts={'0x3': 1}, memory=['0x3']), header=QobjExperimentHeader(clbit_labels=[['bob_c', 0], ['eve_c', 0]], creg_sizes=[['bob_c', 1], ['eve_c', 1]], global_phase=4.712388980384691, memory_slots=2, metadata={}, n_qubits=127, name='circuit-2', qreg_sizes=[['q', 127]], qubit_labels=[['q', 0], ['q', 1], ['q', 2], ['q', 3], ['q', 4], ['q', 5], ['q', 6], ['q', 7], ['q', 8], ['q', 9], ['q', 10], ['q', 11], ['q', 12], ['q', 13], ['q', 14], ['q', 15], ['q', 16], ['q', 17], ['q', 18], ['q', 19], ['q', 20], ['q', 21], ['q', 22], ['q', 23], ['q', 24], ['q', 25], ['q', 26], ['q', 27], ['q', 28], ['q', 29], ['q', 30], ['q', 31], ['q', 32], ['q', 33], ['q', 34], ['q', 35], ['q', 36], ['q', 37], ['q', 38], ['q', 39], ['q', 40], ['q', 41], ['q', 42], ['q', 43], ['q', 44], ['q', 45], ['q', 46], ['q', 47], ['q', 48], ['q', 49], ['q', 50], ['q', 51], ['q', 52], ['q', 53], ['q', 54], ['q', 55], ['q', 56], ['q', 57], ['q', 58], ['q', 59], ['q', 60], ['q', 61], ['q', 62], ['q', 63], ['q', 64], ['q', 65], ['q', 66], ['q', 67], ['q', 68], ['q', 69], ['q', 70], ['q', 71], ['q', 72], ['q', 73], ['q', 74], ['q', 75], ['q', 76], ['q', 77], ['q', 78], ['q', 79], ['q', 80], ['q', 81], ['q', 82], ['q', 83], ['q', 84], ['q', 85], ['q', 86], ['q', 87], ['q', 88], ['q', 89], ['q', 90], ['q', 91], ['q', 92], ['q', 93], ['q', 94], ['q', 95], ['q', 96], ['q', 97], ['q', 98], ['q', 99], ['q', 100], ['q', 101], ['q', 102], ['q', 103], ['q', 104], ['q', 105], ['q', 106], ['q', 107], ['q', 108], ['q', 109], ['q', 110], ['q', 111], ['q', 112], ['q', 113], ['q', 114], ['q', 115], ['q', 116], ['q', 117], ['q', 118], ['q', 119], ['q', 120], ['q', 121], ['q', 122], ['q', 123], ['q', 124], ['q', 125], ['q', 126]]), status=done, meas_return=avg)], date=2024-05-11 23:31:49.746000+08:00, status=done, status=QobjHeader(backend_name='ibm_kyoto', backend_version='1.2.38'), execution_id='', time_taken=1.761824861, error=None, client_version={'qiskit': '0.34.2'})\n"
     ]
    }
   ],
   "source": [
    "circuits = create_circuits(3, True)\n",
    "results = run_the_job(circuits)\n",
    "print(results)"
   ]
  }
 ],
 "metadata": {
  "kernelspec": {
   "display_name": "env",
   "language": "python",
   "name": "python3"
  },
  "language_info": {
   "codemirror_mode": {
    "name": "ipython",
    "version": 3
   },
   "file_extension": ".py",
   "mimetype": "text/x-python",
   "name": "python",
   "nbconvert_exporter": "python",
   "pygments_lexer": "ipython3",
   "version": "3.6.4"
  }
 },
 "nbformat": 4,
 "nbformat_minor": 2
}
