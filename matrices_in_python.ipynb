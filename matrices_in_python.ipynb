{
 "cells": [
  {
   "cell_type": "code",
   "execution_count": 6,
   "metadata": {},
   "outputs": [],
   "source": [
    "import numpy as np"
   ]
  },
  {
   "cell_type": "code",
   "execution_count": 7,
   "metadata": {},
   "outputs": [
    {
     "name": "stdout",
     "output_type": "stream",
     "text": [
      "[[  8 -12   0]\n",
      " [  4  20  76]]\n"
     ]
    }
   ],
   "source": [
    "A = np.matrix([[2, -3, 0],\n",
    "               [1, 5, 19]])\n",
    "print(np.dot(4, A))"
   ]
  },
  {
   "cell_type": "code",
   "execution_count": 8,
   "metadata": {},
   "outputs": [
    {
     "name": "stdout",
     "output_type": "stream",
     "text": [
      "[[32]]\n"
     ]
    }
   ],
   "source": [
    "A = np.matrix([[5, 1, 3]])\n",
    "B = np.matrix([[2], \n",
    "               [4], \n",
    "               [6]])\n",
    "print(np.dot(A, B))\n"
   ]
  },
  {
   "cell_type": "code",
   "execution_count": 9,
   "metadata": {},
   "outputs": [
    {
     "name": "stdout",
     "output_type": "stream",
     "text": [
      "[[ 5 16]\n",
      " [23 34]]\n"
     ]
    }
   ],
   "source": [
    "A = np.matrix([[1, 3, 2],\n",
    "               [4, 0, -1]])\n",
    "B = np.matrix([[5, 10],\n",
    "               [2, -2],\n",
    "               [-3, 6]])\n",
    "print(np.dot(A, B)) # dot product"
   ]
  },
  {
   "cell_type": "code",
   "execution_count": 10,
   "metadata": {},
   "outputs": [
    {
     "name": "stdout",
     "output_type": "stream",
     "text": [
      "[[ 5 16]\n",
      " [23 34]]\n"
     ]
    }
   ],
   "source": [
    "print(A * B) # dot product"
   ]
  },
  {
   "cell_type": "code",
   "execution_count": 11,
   "metadata": {},
   "outputs": [
    {
     "name": "stdout",
     "output_type": "stream",
     "text": [
      "[[15]\n",
      " [12]\n",
      " [10]\n",
      " [ 8]]\n"
     ]
    }
   ],
   "source": [
    "A = np.matrix([[3], [2]])\n",
    "B = np.matrix([[5], [4]])\n",
    "print(np.kron(A, B)) # Tensor product, kron refers to Kronecker"
   ]
  }
 ],
 "metadata": {
  "kernelspec": {
   "display_name": "env",
   "language": "python",
   "name": "python3"
  },
  "language_info": {
   "codemirror_mode": {
    "name": "ipython",
    "version": 3
   },
   "file_extension": ".py",
   "mimetype": "text/x-python",
   "name": "python",
   "nbconvert_exporter": "python",
   "pygments_lexer": "ipython3",
   "version": "3.6.4"
  }
 },
 "nbformat": 4,
 "nbformat_minor": 2
}
