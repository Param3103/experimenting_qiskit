{
 "cells": [
  {
   "cell_type": "code",
   "execution_count": 12,
   "metadata": {},
   "outputs": [],
   "source": [
    "from qiskit import QuantumCircuit, execute, IBMQ\n",
    "from enum import Enum"
   ]
  },
  {
   "cell_type": "code",
   "execution_count": 13,
   "metadata": {},
   "outputs": [],
   "source": [
    "class SimpleBinary(Enum):\n",
    "    ZERO        = 0\n",
    "    ONE         = 1\n",
    "    SAME_AS     = 2\n",
    "    OPPOSITE_OF = 3"
   ]
  },
  {
   "cell_type": "code",
   "execution_count": 14,
   "metadata": {},
   "outputs": [],
   "source": [
    "def get_oracle(circ, function):\n",
    "    # if function == SimpleBinary.ZERO:\n",
    "    #     Do nothing\n",
    "    if function == SimpleBinary.ONE:\n",
    "        circ.x(1)\n",
    "    elif function == SimpleBinary.SAME_AS:\n",
    "        circ.cnot(0, 1)\n",
    "    elif function == SimpleBinary.OPPOSITE_OF:\n",
    "        circ.cnot(0, 1)\n",
    "        circ.x(1)\n",
    "    return circ"
   ]
  },
  {
   "cell_type": "code",
   "execution_count": 15,
   "metadata": {},
   "outputs": [],
   "source": [
    "def get_function():\n",
    "    print(\"Which function? (0/1/2/3)\")\n",
    "    print(\"0: ZERO\")\n",
    "    print(\"1: ONE\")\n",
    "    print(\"2: SAME_AS\")\n",
    "    print(\"3: OPPOSITE_OF\")\n",
    "    value = input(\" > \")\n",
    "    return SimpleBinary(int(value))"
   ]
  },
  {
   "cell_type": "code",
   "execution_count": 16,
   "metadata": {},
   "outputs": [
    {
     "name": "stdout",
     "output_type": "stream",
     "text": [
      "Which function? (0/1/2/3)\n",
      "0: ZERO\n",
      "1: ONE\n",
      "2: SAME_AS\n",
      "3: OPPOSITE_OF\n"
     ]
    },
    {
     "data": {
      "image/png": "[encoded data removed]",
      "text/plain": [
       "<Figure size 507.852x204.68 with 1 Axes>"
      ]
     },
     "metadata": {},
     "output_type": "display_data"
    }
   ],
   "source": [
    "circ = QuantumCircuit(2, 1)\n",
    "function = get_function()\n",
    "\n",
    "circ.x(1)\n",
    "circ.h(0)\n",
    "circ.h(1)\n",
    "circ.barrier()\n",
    "\n",
    "circ = get_oracle(circ, function)\n",
    "circ.barrier()\n",
    "circ.h(0)\n",
    "circ.measure(0, 0)\n",
    "display(circ.draw('mpl'))"
   ]
  },
  {
   "cell_type": "code",
   "execution_count": 17,
   "metadata": {},
   "outputs": [
    {
     "name": "stderr",
     "output_type": "stream",
     "text": [
      "ibmqfactory.load_account:WARNING:2024-05-12 13:46:15,349: Credentials are already in use. The existing account in the session will be replaced.\n"
     ]
    },
    {
     "name": "stdout",
     "output_type": "stream",
     "text": [
      "cp05fdcqn6qbud5cjis0\n",
      "SimpleBinary.SAME_AS\n",
      "{'1': 1}\n",
      "Balanced\n"
     ]
    }
   ],
   "source": [
    "provider = IBMQ.load_account()\n",
    "device = provider.get_backend('ibmq_qasm_simulator')\n",
    "job = execute(circ, backend=device, shots=1, memory=True)\n",
    "print(job.job_id())\n",
    "\n",
    "shots = 1\n",
    "result = job.result()\n",
    "counts = result.get_counts(circ)\n",
    "\n",
    "print(function)\n",
    "print(counts)\n",
    "number_of_0s = counts.get('0')\n",
    "number_of_1s = counts.get('1')\n",
    "\n",
    "if number_of_0s is not None and number_of_0s == shots:\n",
    "    print('Constant')\n",
    "elif number_of_1s is not None and number_of_1s == shots:\n",
    "    print('Balanced')\n",
    "else:\n",
    "    print(\"Results aren't conclusive\")"
   ]
  }
 ],
 "metadata": {
  "kernelspec": {
   "display_name": "env",
   "language": "python",
   "name": "python3"
  },
  "language_info": {
   "codemirror_mode": {
    "name": "ipython",
    "version": 3
   },
   "file_extension": ".py",
   "mimetype": "text/x-python",
   "name": "python",
   "nbconvert_exporter": "python",
   "pygments_lexer": "ipython3",
   "version": "3.6.4"
  }
 },
 "nbformat": 4,
 "nbformat_minor": 2
}
