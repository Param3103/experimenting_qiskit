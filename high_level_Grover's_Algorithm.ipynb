{
 "cells": [
  {
   "cell_type": "code",
   "execution_count": 6,
   "metadata": {},
   "outputs": [],
   "source": [
    "from qiskit.circuit.library.phase_oracle import PhaseOracle\n",
    "from qiskit_algorithms import AmplificationProblem, Grover\n",
    "from qiskit.tools.visualization import plot_histogram\n",
    "from qiskit import QuantumCircuit"
   ]
  },
  {
   "cell_type": "code",
   "execution_count": null,
   "metadata": {},
   "outputs": [],
   "source": [
    "expression = ('(sausage & ~anchovies & pineapple)' \\\n",
    "              ' & (mushrooms | anchovies)')\n",
    "print(expression)\n",
    "oracle = PhaseOracle(expression)\n",
    "problem = AmplificationProblem(oracle)\n",
    "grover = Grover(iterations=2)\n",
    "circ = grover.construct_circuit(problem)\n",
    "circ.measure_all()\n",
    "display(circ.draw('latex'))"
   ]
  },
  {
   "cell_type": "code",
   "execution_count": null,
   "metadata": {},
   "outputs": [],
   "source": [
    "from qiskit import Aer, execute\n",
    "from qiskit.visualization import plot_histogram\n",
    "device = Aer.get_backend('qasm_simulator')\n",
    "job = execute(circ,backend = device, shots = 1000)\n",
    "print(job.job_id())\n",
    "result = job.result()\n",
    "counts = result.get_counts(circ)\n",
    "print(counts)\n",
    "display(plot_histogram(counts))\n"
   ]
  },
  {
   "cell_type": "code",
   "execution_count": null,
   "metadata": {},
   "outputs": [],
   "source": [
    "from qiskit.circuit.library.standard_gates import XGate\n",
    "\n",
    "oracle = QuantumCircuit(4)\n",
    "oracle.x(3)\n",
    "oracle.h(3)\n",
    "ctrl = XGate().control(3, ctrl_state='100')\n",
    "oracle.append(ctrl, qargs=[0, 1, 2, 3])\n",
    "oracle.barrier()\n",
    "display(oracle.draw('latex'))"
   ]
  },
  {
   "cell_type": "code",
   "execution_count": null,
   "metadata": {},
   "outputs": [],
   "source": [
    "diffuser = QuantumCircuit(4)\n",
    "diffuser.h([0, 1, 2])\n",
    "ctrl =  XGate().control(3, ctrl_state='000')\n",
    "diffuser.append(ctrl, qargs=[0, 1, 2, 3])\n",
    "diffuser.h([0, 1, 2])\n",
    "diffuser.barrier()\n",
    "display(diffuser.draw('latex'))\n"
   ]
  }
 ],
 "metadata": {
  "kernelspec": {
   "display_name": "env",
   "language": "python",
   "name": "python3"
  },
  "language_info": {
   "codemirror_mode": {
    "name": "ipython",
    "version": 3
   },
   "file_extension": ".py",
   "mimetype": "text/x-python",
   "name": "python",
   "nbconvert_exporter": "python",
   "pygments_lexer": "ipython3",
   "version": "3.6.4"
  }
 },
 "nbformat": 4,
 "nbformat_minor": 2
}
